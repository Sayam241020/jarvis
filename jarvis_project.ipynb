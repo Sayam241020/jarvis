{
 "cells": [
  {
   "cell_type": "markdown",
   "metadata": {},
   "source": [
    "# ...................................................Jarvis....................................................................."
   ]
  },
  {
   "cell_type": "code",
   "execution_count": 2,
   "metadata": {},
   "outputs": [],
   "source": [
    "import pyttsx3\n",
    "import time\n",
    "import wikipedia\n",
    "from datetime import datetime, date, time, timedelta\n",
    "import pyaudio\n",
    "import speech_recognition as sr\n",
    "import webbrowser\n",
    "import os"
   ]
  },
  {
   "cell_type": "code",
   "execution_count": 3,
   "metadata": {},
   "outputs": [],
   "source": [
    "engine = pyttsx3.init(\"sapi5\")\n",
    "voices = engine.getProperty(\"voices\")\n",
    "engine.setProperty(\"voice\",voices[0].id)"
   ]
  },
  {
   "cell_type": "code",
   "execution_count": 4,
   "metadata": {},
   "outputs": [],
   "source": [
    "\n",
    "def speak(audio):\n",
    "    engine.say(audio)\n",
    "    engine.runAndWait()"
   ]
  },
  {
   "cell_type": "code",
   "execution_count": 5,
   "metadata": {},
   "outputs": [],
   "source": [
    "def wishMe():\n",
    "    hour=int(datetime.now().hour)\n",
    "    if hour==0 and hour<12:\n",
    "        speak(\"Good Morning!\")\n",
    "    elif hour>=12 and hour<18:\n",
    "        speak(\"Good Afternoon!\")\n",
    "    else:\n",
    "        speak(\"Good Evening!\")\n",
    "    speak(\"I am Jarvis. Sir how can i help you\")"
   ]
  },
  {
   "cell_type": "code",
   "execution_count": 6,
   "metadata": {},
   "outputs": [],
   "source": [
    "def takeCommand():\n",
    "    r = sr.Recognizer()\n",
    "    with sr.Microphone() as source:\n",
    "        print(\"listening.....\")\n",
    "        r.pause_threshold = 4\n",
    "        audio = r.listen(source)\n",
    "    try:\n",
    "        print(\"recognizing.....\")\n",
    "        query = r.recognize_google(audio)\n",
    "        print(\"User said: \",query)\n",
    "    except Exception as e:\n",
    "        print(\"Say that again please.....\")\n",
    "        return \"None\"\n",
    "    return query"
   ]
  },
  {
   "cell_type": "code",
   "execution_count": 7,
   "metadata": {},
   "outputs": [
    {
     "name": "stdout",
     "output_type": "stream",
     "text": [
      "listening.....\n",
      "recognizing.....\n",
      "Say that again please.....\n",
      "listening.....\n",
      "recognizing.....\n",
      "User said:  Jarvis close\n"
     ]
    }
   ],
   "source": [
    "if __name__==\"__main__\":\n",
    "    wishMe()\n",
    "    while True:\n",
    "        query=takeCommand().lower()\n",
    "        if \"jarvis\" in query:\n",
    "            if \"wikipedia\" in query:\n",
    "                speak(\"Searching Wikipedia...\")\n",
    "                query = query.replace(\"wikipedia\",\"\")\n",
    "                results = wikipedia.summary(query,sentences=2)\n",
    "                speak(\"According to wikipedia\")\n",
    "                speak(results)\n",
    "            elif \"open youtube\" in query:\n",
    "                webbrowser.open(\"youtube.com\")\n",
    "            elif \"open google\" in query:\n",
    "                webbrowser.open(\"google.com\")\n",
    "            elif \"who is your master\" in query:\n",
    "                speak(\"Sanyam Agarwal is my master. He made me by using enormous efforts\")\n",
    "            elif \"the time\" in query:\n",
    "                stime=datetime.now().strftime(\"%H:%M:%S\")\n",
    "                speak(f\"Sir The time is {stime}\")\n",
    "            elif \"open vs code\" in query:\n",
    "                path = \"C:\\\\Users\\\\Administrator\\\\AppData\\\\Local\\\\Programs\\\\Microsoft VS Code\\\\Code.exe\"\n",
    "                os.startfile(path)\n",
    "            elif \"open pycharm\" in query:\n",
    "                path = \"C:\\\\Program Files\\\\JetBrains\\\\PyCharm Community Edition 2021.3.2\\\\bin\\\\pycharm64.exe\"\n",
    "                os.startfile(path)\n",
    "            elif \"close\" in query:\n",
    "                break\n",
    "            else:\n",
    "                speak(\"Sorry sir this information is not available\")\n",
    "        \n",
    "    "
   ]
  }
 ],
 "metadata": {
  "kernelspec": {
   "display_name": "Python 3",
   "language": "python",
   "name": "python3"
  },
  "language_info": {
   "codemirror_mode": {
    "name": "ipython",
    "version": 3
   },
   "file_extension": ".py",
   "mimetype": "text/x-python",
   "name": "python",
   "nbconvert_exporter": "python",
   "pygments_lexer": "ipython3",
   "version": "3.8.5"
  }
 },
 "nbformat": 4,
 "nbformat_minor": 4
}
